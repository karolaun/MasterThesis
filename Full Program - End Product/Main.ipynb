{
 "cells": [
  {
   "cell_type": "markdown",
   "metadata": {},
   "source": [
    "**Disclaimer**\n",
    "\n",
    "All codes in this calibration is taken either directly or heavily inspired by nicolainielsen32 on GitHub (linked as source in thesis and read me file). All computer vision codes are open source from the OpenCV library (also linked as source in thesis).\n",
    "\n",
    "The codes are put in the repository to illustrate the process of developing a program, not to claim as the authors own work in its entirety."
   ]
  },
  {
   "cell_type": "markdown",
   "metadata": {},
   "source": [
    "Import packages"
   ]
  },
  {
   "cell_type": "code",
   "execution_count": 2,
   "metadata": {},
   "outputs": [],
   "source": [
    "import cv2\n",
    "import numpy as np"
   ]
  },
  {
   "cell_type": "markdown",
   "metadata": {},
   "source": [
    "Main"
   ]
  },
  {
   "cell_type": "code",
   "execution_count": 1,
   "metadata": {},
   "outputs": [],
   "source": [
    "def main():\n",
    "    red_lower = np.array([0, 100, 122], np.uint8)\n",
    "    red_upper = np.array([180, 255, 255], np.uint8)\n",
    "    green_lower = np.array([35, 20, 16], np.uint8)\n",
    "    green_upper = np.array([110, 196, 197], np.uint8)\n",
    "\n",
    "    \n",
    "    paused = False\n",
    "    index = 0\n",
    "\n",
    "    vl_path = \"Week16/left2.avi\"\n",
    "    vr_path = \"Week16/right2.avi\"\n",
    "    \n",
    "    vl = cv2.VideoCapture(vl_path)\n",
    "    vr = cv2.VideoCapture(vr_path)\n",
    "\n",
    "    while True:\n",
    "        if not paused:\n",
    "            retl, framel = vl.read()\n",
    "            retr, framer = vr.read()\n",
    "            if not retl or not retr:\n",
    "                print(\"End of video\")\n",
    "                break\n",
    "\n",
    "        #framer,framel = undistortRectify(framer,framel)\n",
    "        hsvl = cv2.cvtColor(framel, cv2.COLOR_BGR2HSV)\n",
    "        hsvr = cv2.cvtColor(framer,cv2.COLOR_BGR2HSV)\n",
    "\n",
    "        mask_greenL = masker(hsvl, green_lower, green_upper)\n",
    "        mask_redL = masker(hsvl, red_lower, red_upper)\n",
    "        mask_greenR = masker(hsvr, green_lower, green_upper)\n",
    "        mask_redR = masker(hsvr, red_lower, red_upper)\n",
    "\n",
    "        contours_greenL, _ = cv2.findContours(mask_greenL.copy(), cv2.RETR_EXTERNAL, cv2.CHAIN_APPROX_SIMPLE)\n",
    "        contours_redL, _ = cv2.findContours(mask_redL.copy(), cv2.RETR_EXTERNAL, cv2.CHAIN_APPROX_SIMPLE)\n",
    "\n",
    "        green_dot_centersL = calculate_centers(contours_greenL)\n",
    "        red_dot_centersL = calculate_centers(contours_redL)\n",
    "\n",
    "        contours_greenR, _ = cv2.findContours(mask_greenR.copy(), cv2.RETR_EXTERNAL, cv2.CHAIN_APPROX_SIMPLE)\n",
    "        contours_redR, _ = cv2.findContours(mask_redR.copy(), cv2.RETR_EXTERNAL, cv2.CHAIN_APPROX_SIMPLE)\n",
    "\n",
    "        green_dot_centersR = calculate_centers(contours_greenR)\n",
    "        red_dot_centersR = calculate_centers(contours_redR)\n",
    "\n",
    "        for center in green_dot_centersL:\n",
    "            cv2.circle(framel, center, 3, (0, 255, 0), -1)\n",
    "        for center in red_dot_centersL:\n",
    "            cv2.circle(framel, center, 3, (255, 255, 255), -1)\n",
    "\n",
    "\n",
    "        for center in green_dot_centersR:\n",
    "            cv2.circle(framer, center, 3, (0, 255, 0), -1)\n",
    "        for center in red_dot_centersR:\n",
    "            cv2.circle(framer, center, 3, (255, 255, 255), -1)\n",
    "\n",
    "        #depthsRed = calculate_depths(framer,framel,B,f_pixel,alpha,\"Week16/Red/left\",\"Week16/Red/right\")\n",
    "        #depthsGreen = calculate_depths(framer,framel,B,f_pixel,alpha,\"Week16/Green/left\",\"Week16/Green/right\")\n",
    "        \n",
    "        framel,framer, depthRed = displaydepth(framel,framer,red_dot_centersL,red_dot_centersR,B,f_pixel,alpha)\n",
    "        framel,framer, depthGreen = displaydepth(framel,framer,green_dot_centersL,green_dot_centersR,B,f_pixel,alpha)\n",
    "\n",
    "        savecoords(red_dot_centersL,\"Week22/RedAllLeft.txt\",index)\n",
    "        savecoords(red_dot_centersR,\"Week22/RedAllRight.txt\",index)\n",
    "        savecoords(green_dot_centersL,\"Week22/GreenAllLeft.txt\",index)\n",
    "        savecoords(green_dot_centersR,\"Week22/GreenAllRight.txt\",index)\n",
    "        \n",
    "        index += 1\n",
    "\n",
    "        key = cv2.waitKey(1) & 0xFF\n",
    "        if key == ord(\"p\"):\n",
    "            paused = not paused\n",
    "            print(\"Paused\" if paused else \"Resumed\")\n",
    "        elif key == ord(\"d\"):\n",
    "            break\n",
    "\n",
    "\n",
    "    vl.release()\n",
    "    vr.release()\n",
    "\n",
    "    cv2.destroyAllWindows()\n"
   ]
  },
  {
   "cell_type": "markdown",
   "metadata": {},
   "source": [
    "Run main"
   ]
  },
  {
   "cell_type": "code",
   "execution_count": null,
   "metadata": {},
   "outputs": [],
   "source": [
    "#Stereo vision setup parameters\n",
    "frame_rate = 30     #Camera frame rate\n",
    "B = 2.7             #Distance between the cameras [cm]\n",
    "f = 3.67            #Camera lense's focal length [mm]\n",
    "alpha = 78          #Camera field of view in the horisontal plane [degrees]\n",
    "f_pixel = f * (1080/((1/2.88)*25.4))\n",
    "#Camera focal length is 3.67mm for 920 pro and 78 degrees camera field of view\n",
    "#For c930 it is approximately the same and 90 degrees camera field of view\n",
    "\n",
    "if __name__ == \"__main__\":\n",
    "    main()"
   ]
  }
 ],
 "metadata": {
  "kernelspec": {
   "display_name": "opencvmaster",
   "language": "python",
   "name": "python3"
  },
  "language_info": {
   "codemirror_mode": {
    "name": "ipython",
    "version": 3
   },
   "file_extension": ".py",
   "mimetype": "text/x-python",
   "name": "python",
   "nbconvert_exporter": "python",
   "pygments_lexer": "ipython3",
   "version": "3.8.18"
  }
 },
 "nbformat": 4,
 "nbformat_minor": 2
}
