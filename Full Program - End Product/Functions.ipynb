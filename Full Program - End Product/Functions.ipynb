{
 "cells": [
  {
   "cell_type": "markdown",
   "metadata": {},
   "source": [
    "**Disclaimer**\n",
    "\n",
    "All codes in this calibration is taken either directly or heavily inspired by nicolainielsen32 on GitHub (linked as source in thesis). All computer vision codes are open source from the OpenCV library (also linked as source in thesis).\n",
    "\n",
    "The codes are put in the repository to illustrate the process of developing a program, not to claim as the authors own work in its entirety."
   ]
  },
  {
   "cell_type": "markdown",
   "metadata": {},
   "source": [
    "Import packages"
   ]
  },
  {
   "cell_type": "code",
   "execution_count": 2,
   "metadata": {},
   "outputs": [],
   "source": [
    "import numpy as np\n",
    "import cv2\n",
    "import os\n",
    "import re"
   ]
  },
  {
   "cell_type": "markdown",
   "metadata": {},
   "source": [
    "Collecting calibration"
   ]
  },
  {
   "cell_type": "code",
   "execution_count": 3,
   "metadata": {},
   "outputs": [],
   "source": [
    "def undistortRectify(frameR, frameL):\n",
    "    undistortedL= cv2.remap(frameL, stereoMapL_x, stereoMapL_y, cv2.INTER_LANCZOS4, cv2.BORDER_CONSTANT, 0)\n",
    "    undistortedR= cv2.remap(frameR, stereoMapR_x, stereoMapR_y, cv2.INTER_LANCZOS4, cv2.BORDER_CONSTANT, 0)\n",
    "    return undistortedR, undistortedL"
   ]
  },
  {
   "cell_type": "markdown",
   "metadata": {},
   "source": [
    "Triangulation"
   ]
  },
  {
   "cell_type": "code",
   "execution_count": 4,
   "metadata": {},
   "outputs": [],
   "source": [
    "def find_depth(right_point, left_point, frame_right, frame_left, baseline,f, alpha):\n",
    "\n",
    "    # CONVERT FOCAL LENGTH f FROM [mm] TO [pixel]:\n",
    "    height_right, width_right, depth_right = frame_right.shape\n",
    "    height_left, width_left, depth_left = frame_left.shape\n",
    "\n",
    "    if width_right == width_left:\n",
    "        f_pixel = (width_right * 0.5) / np.tan(alpha * 0.5 * np.pi/180)\n",
    "\n",
    "    else:\n",
    "        print('Left and right camera frames do not have the same pixel width')\n",
    "    x_right, _ = right_point[0]  # Extract x-coordinate from tuple\n",
    "    x_left, _ = left_point[0]  # Extract x-coordinate from tuple\n",
    "\n",
    "    # CALCULATE THE DISPARITY:\n",
    "    disparity = x_left-x_right      #Displacement between left and right frames [pixels]\n",
    "\n",
    "    # CALCULATE DEPTH z:\n",
    "    zDepth = (baseline*f_pixel)/disparity             #Depth in [cm]\n",
    "\n",
    "    return zDepth\n",
    "\n",
    "def displaydepth(frameleft,frameright,centersl,centersr,B,f,alpha):\n",
    "    if not centersr or not centersl:\n",
    "        cv2.putText(frameright, \"TRACKING LOST\", (75,50), cv2.FONT_HERSHEY_SIMPLEX, 0.7, (0,0,255),2)\n",
    "        cv2.putText(frameleft, \"TRACKING LOST\", (75,50), cv2.FONT_HERSHEY_SIMPLEX, 0.7, (0,0,255),2)\n",
    "        return frameleft,frameright,\"error no depth\"\n",
    "    else:\n",
    "    # Function to calculate depth of object. Outputs vector of all depths in case of several balls.\n",
    "    # All formulas used to find depth is in video presentaion\n",
    "        depth = find_depth(centersr, centersl, frameright, frameleft, B, f, alpha)\n",
    "\n",
    "        cv2.putText(frameright, \"TRACKING\", (75,50), cv2.FONT_HERSHEY_SIMPLEX, 0.7, (124,252,0),2)\n",
    "        cv2.putText(frameleft, \"TRACKING\", (75,50), cv2.FONT_HERSHEY_SIMPLEX, 0.7, (124,252,0),2)\n",
    "        cv2.putText(frameright, \"Distance: \" + str(round(depth,3)), (200,50), cv2.FONT_HERSHEY_SIMPLEX, 0.7, (124,252,0),2)\n",
    "        cv2.putText(frameleft, \"Distance: \" + str(round(depth,3)), (200,50), cv2.FONT_HERSHEY_SIMPLEX, 0.7, (124,252,0),2)\n",
    "        # Multiply computer value with 205.8 to get real-life depth in [cm]. The factor was found manually.\n",
    "        return frameleft,frameright,depth\n",
    "\n",
    "depths = []   \n",
    "def calculate_depths(frame_right,frame_left,baseline,f_pixel,alpha,folder_pathl,folder_pathr):\n",
    "\n",
    "    def collect_coords(folder_path):\n",
    "        files = os.listdir(folder_path)\n",
    "        for file in files:\n",
    "                file_path = sorted(os.path.join(folder_path, file))\n",
    "                # Check if the file is a regular file (not a directory)\n",
    "                if os.path.isfile(file_path):\n",
    "                    # Extract coordinates from the file\n",
    "                    coordinates = extract_coordinates(file_path)\n",
    "                    print(coordinates)\n",
    "        return coordinates\n",
    "\n",
    "    left_coords = collect_coords(folder_pathl)\n",
    "    right_coords = collect_coords(folder_pathr)\n",
    "    for leftcoord, rightcoord in zip(left_coords, right_coords):\n",
    "        # Calculate depth for the pair of points\n",
    "        depth = find_depth(leftcoord, rightcoord, frame_right,frame_left,baseline,f_pixel,alpha)\n",
    "        # Append the depth to the depths list\n",
    "        depths.append(depth)\n",
    "\n",
    "    return depths"
   ]
  },
  {
   "cell_type": "markdown",
   "metadata": {},
   "source": [
    "Center detection"
   ]
  },
  {
   "cell_type": "code",
   "execution_count": 6,
   "metadata": {},
   "outputs": [],
   "source": [
    "def masker(frame, lower, upper):\n",
    "    mask = cv2.inRange(frame, lower, upper)\n",
    "    mask = cv2.dilate(mask, None, iterations=2)\n",
    "    return mask\n",
    "\n",
    "def calculate_centers(contours):\n",
    "    return [(x + w // 2, y + h // 2) for contour in contours for x, y, w, h in map(cv2.boundingRect, contours)]\n",
    "\n",
    "def filter_centers(centers, colour,side,limit, index):\n",
    "    try: \n",
    "        for i, center in enumerate(centers):\n",
    "            res = f\"./Week16/{colour}/res{side}{i}.txt\"\n",
    "            if index == 0:\n",
    "                with open(res, \"w\") as file:\n",
    "                    print(f\"{center[0]},{center[1]}\", file=file)\n",
    "            else:\n",
    "                with open(res, \"r\") as file:\n",
    "                    lines = file.readlines()\n",
    "                if lines:\n",
    "                    prev_x, prev_y = map(float, lines[-1].strip().split(\",\"))\n",
    "                    if abs(center[0] - prev_x) <= limit and abs(center[1] - prev_y) <= limit:\n",
    "                        with open(res, \"a\") as file:\n",
    "                            print(f\"{center[0]},{center[1]}\", file=file)\n",
    "    except FileNotFoundError:\n",
    "        pass\n",
    "\n",
    "def extract_coordinates(content):\n",
    "    # Define a regular expression pattern to match coordinates\n",
    "    pattern = r'(\\d+),(\\d+)'\n",
    "    \n",
    "    # Find all occurrences of coordinates in the content\n",
    "    coordinates = re.findall(pattern, content)\n",
    "    # Convert the coordinates from strings to integers\n",
    "    coordinates = [(int(x), int(y)) for x, y in coordinates]\n",
    "\n",
    "    return coordinates\n",
    "\n",
    "def savecoords(coords,filename,index):\n",
    "    mode = 'w' if index == 0 else 'a'\n",
    "    with open(filename,mode) as file:\n",
    "        form = \" \".join([f\"{x},{y}\" for x, y in coords])\n",
    "        file.write(f\"{form}\\n\")\n"
   ]
  }
 ],
 "metadata": {
  "kernelspec": {
   "display_name": "opencvmaster",
   "language": "python",
   "name": "python3"
  },
  "language_info": {
   "codemirror_mode": {
    "name": "ipython",
    "version": 3
   },
   "file_extension": ".py",
   "mimetype": "text/x-python",
   "name": "python",
   "nbconvert_exporter": "python",
   "pygments_lexer": "ipython3",
   "version": "3.8.18"
  }
 },
 "nbformat": 4,
 "nbformat_minor": 2
}
